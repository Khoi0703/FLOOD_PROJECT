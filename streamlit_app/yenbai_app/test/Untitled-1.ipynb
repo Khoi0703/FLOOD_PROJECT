{
 "cells": [
  {
   "cell_type": "markdown",
   "id": "15060d8a",
   "metadata": {},
   "source": [
    "# Đọc và lọc dữ liệu ranh giới tỉnh Yên Bái từ GeoJSON\n",
    "\n",
    "Trong phần này, chúng ta sẽ sử dụng thư viện `json` để đọc file GeoJSON chứa ranh giới các tỉnh, sau đó lọc ra feature tương ứng với tỉnh Yên Bái dựa trên thuộc tính `ten_tinh`."
   ]
  },
  {
   "cell_type": "code",
   "execution_count": null,
   "id": "1e3b837a",
   "metadata": {},
   "outputs": [],
   "source": [
    "import json\n",
    "\n",
    "# Đường dẫn tới file geojson\n",
    "geojson_path = 'mnt/data/diaphantinh.geojson'\n",
    "\n",
    "with open(geojson_path, encoding='utf-8') as f:\n",
    "    data = json.load(f)\n",
    "\n",
    "# Lọc ra tỉnh Yên Bái\n",
    "yen_bai = None\n",
    "for feature in data['features']:\n",
    "    if feature['properties']['ten_tinh'].lower() == 'yên bái':\n",
    "        yen_bai = feature\n",
    "        break\n",
    "\n",
    "if yen_bai:\n",
    "    print(\"Thông tin tỉnh Yên Bái:\")\n",
    "    print(\"Properties:\", yen_bai['properties'])\n",
    "    print(\"Geometry:\", yen_bai['geometry'])\n",
    "else:\n",
    "    print(\"Không tìm thấy tỉnh Yên Bái\")"
   ]
  },
  {
   "cell_type": "markdown",
   "id": "e39f16ae",
   "metadata": {},
   "source": [
    "# Vẽ bản đồ ranh giới tỉnh Yên Bái\n",
    "\n",
    "Sau khi đã lọc được feature của tỉnh Yên Bái, chúng ta sẽ sử dụng GeoPandas và Matplotlib để đọc file GeoJSON và vẽ ranh giới tỉnh trên bản đồ."
   ]
  },
  {
   "cell_type": "code",
   "execution_count": null,
   "id": "bdddb28e",
   "metadata": {},
   "outputs": [],
   "source": [
    "import json\n",
    "\n",
    "yen_bai_geojson = {\n",
    "    \"type\": \"FeatureCollection\",\n",
    "    \"features\": [yen_bai]\n",
    "}\n",
    "\n",
    "with open(\"yen_bai.geojson\", \"w\", encoding=\"utf-8\") as f:\n",
    "    json.dump(yen_bai_geojson, f, ensure_ascii=False, indent=2)"
   ]
  },
  {
   "cell_type": "code",
   "execution_count": null,
   "id": "50ddece1",
   "metadata": {},
   "outputs": [],
   "source": [
    "import geopandas as gpd\n",
    "import matplotlib.pyplot as plt\n",
    "\n",
    "# Đọc file geojson vừa lưu\n",
    "gdf = gpd.read_file(\"yen_bai.geojson\")\n",
    "\n",
    "# Vẽ bản đồ\n",
    "gdf.plot(edgecolor='black', facecolor='lightblue', figsize=(8, 8))\n",
    "plt.title(\"Ranh giới tỉnh Yên Bái\")\n",
    "plt.axis('equal')\n",
    "plt.show()"
   ]
  },
  {
   "cell_type": "markdown",
   "id": "cad63044",
   "metadata": {},
   "source": [
    "# Đọc và lọc dữ liệu các huyện thuộc Yên Bái từ GADM\n",
    "\n",
    "Tiếp theo, chúng ta sẽ đọc file GADM cấp huyện, lọc các feature có thuộc tính `NAME_1` là 'Yên Bái', và tạo GeoDataFrame cho các huyện này."
   ]
  },
  {
   "cell_type": "code",
   "execution_count": null,
   "id": "fe6f14d4",
   "metadata": {},
   "outputs": [],
   "source": [
    "import json\n",
    "import geopandas as gpd\n",
    "\n",
    "# Đọc file GeoJSON cấp huyện\n",
    "with open(\"gadm41_VNM_3.json\", encoding=\"utf-8\") as f:\n",
    "    gadm = json.load(f)\n",
    "\n",
    "# Lọc các huyện thuộc Yên Bái (không có dấu cách)\n",
    "yenbai_huyen = [\n",
    "    feat for feat in gadm[\"features\"]\n",
    "    if feat[\"properties\"].get(\"NAME_1\", \"\").lower().replace(\" \", \"\") == \"yênbái\"\n",
    "]\n",
    "\n",
    "print(f\"Số huyện tìm được: {len(yenbai_huyen)}\")  # Kiểm tra\n",
    "\n",
    "# Tạo GeoDataFrame cho các huyện Yên Bái\n",
    "gdf_huyen = gpd.GeoDataFrame.from_features(yenbai_huyen, crs=\"EPSG:4326\")"
   ]
  },
  {
   "cell_type": "markdown",
   "id": "a6036d1e",
   "metadata": {},
   "source": [
    "# Vẽ bản đồ các huyện của tỉnh Yên Bái\n",
    "\n",
    "Chúng ta sẽ vẽ bản đồ các huyện Yên Bái với màu sắc phân biệt từng huyện, đồng thời hiển thị tên huyện trên bản đồ để dễ dàng nhận diện."
   ]
  },
  {
   "cell_type": "code",
   "execution_count": null,
   "id": "e764bd95",
   "metadata": {},
   "outputs": [],
   "source": [
    "import matplotlib.pyplot as plt\n",
    "\n",
    "fig, ax = plt.subplots(figsize=(8, 8))\n",
    "gdf_huyen.plot(ax=ax, edgecolor='black', linewidth=1, alpha=0.6, column=\"NAME_2\", cmap=\"tab20\", legend=True)\n",
    "for idx, row in gdf_huyen.iterrows():\n",
    "    if row.geometry.centroid.is_empty:\n",
    "        continue\n",
    "    x, y = row.geometry.centroid.x, row.geometry.centroid.y\n",
    "    plt.text(x, y, row[\"NAME_2\"], fontsize=8, ha='center', va='center')\n",
    "plt.title(\"Các huyện của tỉnh Yên Bái (GADM)\")\n",
    "plt.axis('equal')\n",
    "plt.show()"
   ]
  },
  {
   "cell_type": "markdown",
   "id": "46d031cb",
   "metadata": {},
   "source": [
    "# Tạo và vẽ lưới ô vuông lớn (10km x 10km) phủ tỉnh Yên Bái\n",
    "\n",
    "Ở phần này, chúng ta sẽ tạo lưới các ô vuông lớn (10km x 10km) phủ toàn bộ tỉnh Yên Bái bằng shapely và geopandas. Thông tin các ô và tâm ô sẽ được lưu ra file CSV để sử dụng cho các bước tiếp theo."
   ]
  },
  {
   "cell_type": "code",
   "execution_count": null,
   "id": "58dd1e91",
   "metadata": {},
   "outputs": [],
   "source": [
    "import geopandas as gpd\n",
    "from shapely.geometry import box, Point\n",
    "import numpy as np\n",
    "import pandas as pd\n",
    "\n",
    "# Đọc file geojson Yên Bái\n",
    "gdf = gpd.read_file(\"yen_bai.geojson\")\n",
    "gdf_utm = gdf.to_crs(epsg=32648)  # UTM phù hợp miền Bắc VN\n",
    "\n",
    "# Tạo lưới lớn 10km x 10km\n",
    "minx, miny, maxx, maxy = gdf_utm.total_bounds\n",
    "big_size = 10000\n",
    "big_ids = []\n",
    "centers_utm = []\n",
    "centers_lon = []\n",
    "centers_lat = []\n",
    "\n",
    "i = 0\n",
    "for x0 in np.arange(minx, maxx, big_size):\n",
    "    for y0 in np.arange(miny, maxy, big_size):\n",
    "        x1, y1 = x0 + big_size, y0 + big_size\n",
    "        cell = box(x0, y0, x1, y1)\n",
    "        if cell.intersects(gdf_utm.unary_union):\n",
    "            centroid = cell.centroid\n",
    "            big_ids.append(f\"big_{i}\")\n",
    "            centers_utm.append(centroid)\n",
    "            i += 1\n",
    "\n",
    "# Chuyển các điểm trung tâm về WGS84\n",
    "gdf_centers = gpd.GeoDataFrame({'big_square_id': big_ids, 'geometry': centers_utm}, crs=gdf_utm.crs)\n",
    "gdf_centers_wgs = gdf_centers.to_crs(epsg=4326)  # WGS84\n",
    "\n",
    "centers_lon = gdf_centers_wgs.geometry.x\n",
    "centers_lat = gdf_centers_wgs.geometry.y\n",
    "\n",
    "df = pd.DataFrame({\n",
    "    \"big_square_id\": big_ids,\n",
    "    \"center_lon\": centers_lon,\n",
    "    \"center_lat\": centers_lat\n",
    "})\n",
    "df.to_csv(\"yen_bai_big_squares_centers_wgs84.csv\", index=False)\n",
    "print(\"Đã tạo file yen_bai_big_squares_centers_wgs84.csv\")"
   ]
  },
  {
   "cell_type": "markdown",
   "id": "579b3854",
   "metadata": {},
   "source": [
    "# Vẽ bản đồ các điểm trung tâm ô lớn trên nền ranh giới tỉnh\n",
    "\n",
    "Cuối cùng, chúng ta sẽ đọc file CSV các điểm trung tâm ô lớn và vẽ các điểm này trên bản đồ ranh giới tỉnh Yên Bái để trực quan hóa vị trí các ô vuông lớn đã tạo."
   ]
  },
  {
   "cell_type": "code",
   "execution_count": null,
   "id": "2266645c",
   "metadata": {},
   "outputs": [],
   "source": [
    "import geopandas as gpd\n",
    "import matplotlib.pyplot as plt\n",
    "import pandas as pd\n",
    "\n",
    "# Đọc ranh giới Yên Bái\n",
    "gdf = gpd.read_file(\"yen_bai.geojson\")\n",
    "\n",
    "# Đọc các điểm trung tâm ô lớn (WGS84) từ CSV\n",
    "df = pd.read_csv(\"yen_bai_big_squares_centers_wgs84.csv\")\n",
    "centers = gpd.GeoDataFrame(\n",
    "    df,\n",
    "    geometry=gpd.points_from_xy(df.center_lon, df.center_lat),\n",
    "    crs=\"EPSG:4326\"\n",
    ")\n",
    "\n",
    "# Vẽ bản đồ\n",
    "fig, ax = plt.subplots(figsize=(8, 8))\n",
    "gdf.to_crs(epsg=4326).plot(ax=ax, edgecolor='black', facecolor='none')\n",
    "centers.plot(ax=ax, color='red', markersize=30)\n",
    "plt.title(\"Ranh giới tỉnh Yên Bái và các điểm trung tâm ô lớn\")\n",
    "plt.xlabel(\"Longitude\")\n",
    "plt.ylabel(\"Latitude\")\n",
    "plt.show()"
   ]
  }
 ],
 "metadata": {
  "language_info": {
   "name": "python"
  }
 },
 "nbformat": 4,
 "nbformat_minor": 5
}
